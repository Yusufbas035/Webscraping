{
 "cells": [
  {
   "cell_type": "code",
   "execution_count": 4,
   "id": "fb0a9b87",
   "metadata": {},
   "outputs": [],
   "source": [
    "# install packages\n",
    "from bs4 import BeautifulSoup\n",
    "import requests\n",
    "import smtplib\n",
    "import time\n",
    "import datetime\n",
    "import pandas as pd"
   ]
  },
  {
   "cell_type": "code",
   "execution_count": 30,
   "id": "d1b755cf",
   "metadata": {},
   "outputs": [],
   "source": [
    "# determine the data where you will scrape\n",
    "baseurl = 'https://www.trendyol.com/'\n",
    "headers = {\"User-Agent\": \"Mozilla/5.0 (Windows NT 10.0; Win64; x64) AppleWebKit/537.36 (KHTML, like Gecko) Chrome/101.0.4951.64 Safari/537.36\"} \n",
    "# determine how much data do you want to pull out \n",
    "productlinks = []\n",
    "for x in range(1,200):\n",
    "    r = requests.get(f'https://www.trendyol.com/sr/?fl=encoksatanurunler&sst=MOST_RATED&pi={x}', headers=headers)\n",
    "    soup1 = BeautifulSoup(r.content, 'html.parser')\n",
    "    productlist = soup1.find_all('div', class_=\"p-card-wrppr\")\n",
    "    for item in productlist:\n",
    "        for link in item.find_all('a', href=True):\n",
    "            productlinks.append(baseurl + link['href'])\n",
    "\n",
    "# check for errors using test_link            \n",
    "#test_link = 'https://www.trendyol.com/trendyolmilla/siyah-yuksek-bel-toparlayici-orme-tayt-twoaw20ta0087-p-31515569?boutiqueId=605726&merchantId=968'\n",
    "\n",
    "# pull out specific data\n",
    "clotheslist = []\n",
    "for link in productlinks:\n",
    "\n",
    "    r = requests.get(link, headers=headers)\n",
    "    soup = BeautifulSoup(r.content, 'html.parser')\n",
    "\n",
    "    seller = soup.find('a', class_=\"merchant-text\").text.strip()\n",
    "    try:    \n",
    "        brand = soup.find('h1', class_=\"pr-new-br\").a.text.strip()\n",
    "    except:\n",
    "        brand = \"no brand\"\n",
    "    product = soup.find('h1', class_=\"pr-new-br\").span.text.strip()\n",
    "    price = soup.find('span', class_=\"prc-dsc\").text.strip()\n",
    "    rating = soup.find(class_=\"rvw-cnt-tx\").text.strip()\n",
    "    favorite = soup.find(class_=\"fv-dt\").text.strip()\n",
    "    try:\n",
    "        category = soup.find(class_=\"category-gender-desc\").text\n",
    "    except:\n",
    "        category = 'no category'\n",
    "    \n",
    "    clothes = {\n",
    "        'seller' : seller, 'brand' : brand, 'product' : product, 'favorite' : favorite, 'price' : price, 'rating' : rating, 'category' : category\n",
    "    }\n",
    "    \n",
    "    clotheslist.append(clothes)\n",
    "\n",
    "# write to excel \n",
    "\n",
    "df = pd.DataFrame(clotheslist)\n",
    "df.to_csv('5_17_2022TYwebsc.csv', encoding = \"UTF-8\", index=False)"
   ]
  },
  {
   "cell_type": "code",
   "execution_count": null,
   "id": "3bce939c",
   "metadata": {},
   "outputs": [],
   "source": []
  }
 ],
 "metadata": {
  "kernelspec": {
   "display_name": "Python 3 (ipykernel)",
   "language": "python",
   "name": "python3"
  },
  "language_info": {
   "codemirror_mode": {
    "name": "ipython",
    "version": 3
   },
   "file_extension": ".py",
   "mimetype": "text/x-python",
   "name": "python",
   "nbconvert_exporter": "python",
   "pygments_lexer": "ipython3",
   "version": "3.9.12"
  }
 },
 "nbformat": 4,
 "nbformat_minor": 5
}
